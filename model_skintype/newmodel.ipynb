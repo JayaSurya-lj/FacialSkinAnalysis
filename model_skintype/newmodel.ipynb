{
 "cells": [
  {
   "cell_type": "code",
   "execution_count": 2,
   "metadata": {},
   "outputs": [],
   "source": [
    "import joblib\n",
    "\n",
    "# Load the saved model\n",
    "model = joblib.load('model.pkl')"
   ]
  },
  {
   "cell_type": "code",
   "execution_count": 3,
   "metadata": {},
   "outputs": [],
   "source": [
    "from torchvision import transforms\n",
    "import torch\n",
    "import numpy as np\n",
    "IMG_SIZE = 224\n",
    "train_transform = transforms.Compose([transforms.ToPILImage(),\n",
    "                               transforms.ToTensor(),\n",
    "                               transforms.Resize((IMG_SIZE, IMG_SIZE)),\n",
    "                                transforms.RandomVerticalFlip(0.6),\n",
    "                               transforms.Normalize(mean=[0.485, 0.456, 0.406],\n",
    "                     std=[0.229, 0.224, 0.225])])\n",
    "\n",
    "transform = transforms.Compose([transforms.ToPILImage(),\n",
    "                               transforms.ToTensor(),\n",
    "                               transforms.Resize((IMG_SIZE, IMG_SIZE)),\n",
    "                               transforms.Normalize(mean=[0.485, 0.456, 0.406],\n",
    "                     std=[0.229, 0.224, 0.225])])"
   ]
  },
  {
   "cell_type": "code",
   "execution_count": 4,
   "metadata": {},
   "outputs": [],
   "source": [
    "from PIL import Image\n",
    "def predict(x):\n",
    "    img = Image.open(x).convert(\"RGB\")\n",
    "    img = transform(np.array(img))\n",
    "    img = img.view(1, 3, 224, 224)\n",
    "    model.eval()\n",
    "    with torch.no_grad():\n",
    "        if torch.cuda.is_available():\n",
    "            img = img.cuda()\n",
    "\n",
    "        out = model(img)\n",
    "\n",
    "        return out.argmax(1).item()"
   ]
  },
  {
   "cell_type": "code",
   "execution_count": 5,
   "metadata": {},
   "outputs": [],
   "source": [
    "label_index = {\"dry\": 0, \"normal\": 1, \"oily\": 2}\n",
    "index_label = {0: \"dry\", 1: \"normal\", 2: \"oily\"}"
   ]
  },
  {
   "cell_type": "code",
   "execution_count": 6,
   "metadata": {},
   "outputs": [
    {
     "name": "stdout",
     "output_type": "stream",
     "text": [
      "normal\n"
     ]
    }
   ],
   "source": [
    "image_path = \"mypic.jpg\"\n",
    "predicted_label = predict(image_path)\n",
    "ans = index_label[predicted_label]\n",
    "print(ans)"
   ]
  },
  {
   "cell_type": "code",
   "execution_count": 6,
   "metadata": {},
   "outputs": [
    {
     "name": "stdout",
     "output_type": "stream",
     "text": [
      "oily\n"
     ]
    }
   ],
   "source": [
    "image_path = \"abcd.jpg\"\n",
    "predicted_label = predict(image_path)\n",
    "ans = index_label[predicted_label]\n",
    "print(ans)"
   ]
  },
  {
   "cell_type": "code",
   "execution_count": 7,
   "metadata": {},
   "outputs": [
    {
     "name": "stdout",
     "output_type": "stream",
     "text": [
      "dry\n"
     ]
    }
   ],
   "source": [
    "image_path = \"abcd1.jpg\"\n",
    "predicted_label = predict(image_path)\n",
    "ans = index_label[predicted_label]\n",
    "print(ans)"
   ]
  },
  {
   "cell_type": "code",
   "execution_count": 8,
   "metadata": {},
   "outputs": [
    {
     "name": "stdout",
     "output_type": "stream",
     "text": [
      "normal\n"
     ]
    }
   ],
   "source": [
    "image_path = \"myphoto.jpg\"\n",
    "predicted_label = predict(image_path)\n",
    "ans = index_label[predicted_label]\n",
    "print(ans)"
   ]
  },
  {
   "cell_type": "code",
   "execution_count": 7,
   "metadata": {},
   "outputs": [
    {
     "name": "stdout",
     "output_type": "stream",
     "text": [
      "dry\n"
     ]
    }
   ],
   "source": [
    "image_path = \"myphoto5.jpg\"\n",
    "predicted_label = predict(image_path)\n",
    "ans = index_label[predicted_label]\n",
    "print(ans)"
   ]
  },
  {
   "cell_type": "code",
   "execution_count": null,
   "metadata": {},
   "outputs": [],
   "source": []
  }
 ],
 "metadata": {
  "kernelspec": {
   "display_name": "Python 3",
   "language": "python",
   "name": "python3"
  },
  "language_info": {
   "codemirror_mode": {
    "name": "ipython",
    "version": 3
   },
   "file_extension": ".py",
   "mimetype": "text/x-python",
   "name": "python",
   "nbconvert_exporter": "python",
   "pygments_lexer": "ipython3",
   "version": "3.12.1"
  }
 },
 "nbformat": 4,
 "nbformat_minor": 2
}
